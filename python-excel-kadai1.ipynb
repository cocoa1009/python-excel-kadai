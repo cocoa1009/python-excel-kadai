import openpyxl
import datetime

# 現在の日付を取得
current_date = datetime.date.today()
date_string = current_date.strftime("%Y%m%d")

# 新しいエクセルファイルを作成
workbook = openpyxl.Workbook()
sheet = workbook.active

# セルに値を入力
sheet['B2'] = "請求書"
sheet['B4'] = "株式会社ABC"
sheet['B5'] = "〒101-0022 東京都千代田区神田練塀町300"
sheet['B6'] = "TEL:03-1234-5678 FAX:03-1234-5678"
sheet['B7'] = "担当者名:鈴木一郎 様"
sheet['F4'] = "No."
sheet['G4'] = "0001"
sheet['F5'] = "日付"
sheet['G5'] = current_date


data = [
    ['','商品', '数量', '単価', '金額'],
    ['','商品A', 2, 10000, 20000],
    ['','商品B', 1, 5000, 15000],
    ['','','','',35000],
    [],
    ['','小計', '', '', 35000],
    ['','消費税', '', '', 3500],
    ['','合計', '', '', 38500],
]

for row in data:
    sheet.append(row)


# エクセルファイルを保存
file_name = f"請求書_{date_string}.xlsx"
workbook.save(file_name)

