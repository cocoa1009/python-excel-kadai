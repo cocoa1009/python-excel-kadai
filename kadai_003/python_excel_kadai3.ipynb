{
  "nbformat": 4,
  "nbformat_minor": 0,
  "metadata": {
    "colab": {
      "provenance": []
    },
    "kernelspec": {
      "name": "python3",
      "display_name": "Python 3"
    },
    "language_info": {
      "name": "python"
    }
  },
  "cells": [
    {
      "cell_type": "code",
      "execution_count": 6,
      "metadata": {
        "colab": {
          "base_uri": "https://localhost:8080/"
        },
        "id": "s1k7fqwm3FCf",
        "outputId": "f6071a58-9227-4dbe-fe4d-cc8c3e04ee87"
      },
      "outputs": [
        {
          "output_type": "stream",
          "name": "stdout",
          "text": [
            "売上集計表.xlsx に集計結果を保存しました。\n"
          ]
        }
      ],
      "source": [
        "import pandas as pd\n",
        "\n",
        "# 2022年間売上表のデータを作成\n",
        "data_2022 = {\n",
        "    '売上年': [2022, 2022, 2022, 2022, 2022, 2022, 2022, 2022, 2022, 2022, 2022],\n",
        "    '商品': ['紅茶', 'ハチミツ', 'セッケン', '紅茶', 'アロマキャンドル', 'ハチミツ', 'ハチミツ', 'ワイングラス', 'アロマキャンドル', '包丁', '水筒'],\n",
        "    '金額（千円）': [1200, 1000, 1300, 800, 900, 300, 560, 850, 810, 940, 1150]\n",
        "}\n",
        "\n",
        "# 2023年間売上表のデータを作成\n",
        "data_2023 = {\n",
        "    '売上年': [2023, 2023, 2023, 2023, 2023, 2023, 2023, 2023, 2023, 2023, 2023],\n",
        "    '商品': ['紅茶', 'ハチミツ', '水筒', 'コーヒー豆', 'セッケン', '紅茶', 'アロマキャンドル', 'ワイングラス', '包丁', 'フライパン', '水筒'],\n",
        "    '金額（千円）': [1200, 1000, 250, 860, 1300, 670, 900, 850, 940, 670, 1150]\n",
        "}\n",
        "\n",
        "# データフレームを作成\n",
        "df_2022 = pd.DataFrame(data_2022)\n",
        "df_2023 = pd.DataFrame(data_2023)\n",
        "\n",
        "# データを連結\n",
        "concatenated_df = pd.concat([df_2022, df_2023])\n",
        "\n",
        "# 「商品」「売上年」ごとにグループ化して合計金額に集約\n",
        "aggregated_df = concatenated_df.groupby(['商品', '売上年'], as_index=False)['金額（千円）'].sum()\n",
        "\n",
        "# 集計結果を新規Excelファイルに保存\n",
        "output_file = '売上集計表.xlsx'\n",
        "aggregated_df.to_excel(output_file, index=False)\n",
        "\n",
        "# Excelファイルを読み込み、ヘッダーの背景色を設定\n",
        "import openpyxl\n",
        "\n",
        "book = openpyxl.load_workbook(output_file)\n",
        "sheet = book.active\n",
        "header_font = openpyxl.styles.Font(bold=True)\n",
        "header_fill = openpyxl.styles.PatternFill(fill_type=\"solid\", fgColor=\"F2F2F2\")\n",
        "\n",
        "for cell in sheet[\"1\"]:\n",
        "    cell.font = header_font\n",
        "    cell.fill = header_fill\n",
        "\n",
        "# Excelファイルを保存\n",
        "book.save(output_file)\n",
        "\n",
        "print(\"売上集計表.xlsx に集計結果を保存しました。\")\n"
      ]
    }
  ]
}