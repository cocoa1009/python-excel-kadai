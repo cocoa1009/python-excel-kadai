import pandas as pd

# データを定義する
df = pd.DataFrame(data = {
    '日付': ['2023-05-17', '2023-05-18', '2023-05-19', '2023-05-20', '2023-05-21'],
    '社員名': ['山田', '佐藤', '鈴木', '田中', '高橋'],
    '売上': [100, 200, 150, 300, 250],
    '部門': ['メーカー', '代理店', 'メーカー', '商社', '代理店']  
})

# 「値段」列の平均値を計算する
mean = df['売上'].mean()
df['平均売上'] = [mean, mean, mean, mean, mean]

# 業績ランクを表示する
list = []
for cost in df['売上']:
    if cost >= mean + 50:
        list.append('A')
    elif cost >= mean:
        list.append('B')
    else:
        list.append('C')
df['業績ランク'] = list

# Excelファイルを作成する
writer = pd.ExcelWriter('業績.xlsx')

# DataFrameオブジェクトをExcelファイルに書き込む
df.to_excel(writer, sheet_name='Sheet1', index=False)

# Excelファイルを保存する
writer.close()
